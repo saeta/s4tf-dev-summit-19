{
  "nbformat": 4,
  "nbformat_minor": 0,
  "metadata": {
    "colab": {
      "name": "TF Dev Summit - 2019 - S4TF Prezo - 03 Differential Programming",
      "version": "0.3.2",
      "provenance": [],
      "collapsed_sections": []
    },
    "kernelspec": {
      "name": "swift",
      "display_name": "Swift"
    }
  },
  "cells": [
    {
      "metadata": {
        "id": "-QeWSXfaotcQ",
        "colab_type": "text"
      },
      "cell_type": "markdown",
      "source": [
        "# Differentiable Programming\n"
      ]
    },
    {
      "metadata": {
        "id": "foobarbaz",
        "colab_type": "code",
        "colab": {}
      },
      "cell_type": "code",
      "source": [
        "%disableCompletions\n"
      ],
      "execution_count": 0,
      "outputs": []
    },
    {
      "metadata": {
        "id": "Nlah8JUb0eYY",
        "colab_type": "code",
        "colab": {}
      },
      "cell_type": "code",
      "source": [
        "\n",
        "func myFunction(_ a: Double, _ b: Double) -> Double {\n",
        "    return (a * b) + (a / b) * a\n",
        "}"
      ],
      "execution_count": 0,
      "outputs": []
    },
    {
      "metadata": {
        "id": "Xf52uXXE0g1k",
        "colab_type": "code",
        "colab": {}
      },
      "cell_type": "code",
      "source": [
        "let b = 1.3\n",
        "gradient(at: 0.5) { a in myFunction(a, b) }"
      ],
      "execution_count": 0,
      "outputs": []
    },
    {
      "metadata": {
        "id": "VID49fTv-hjk",
        "colab_type": "code",
        "colab": {}
      },
      "cell_type": "code",
      "source": [
        "gradient(at: 0.5, -0.5) { a, b in myFunction(a, b) }"
      ],
      "execution_count": 0,
      "outputs": []
    },
    {
      "metadata": {
        "id": "s3WmNgf7AOAp",
        "colab_type": "code",
        "colab": {}
      },
      "cell_type": "code",
      "source": [
        "let result = valueWithGradient(at: 0.5, -0.5) { a, b in myFunction(a, b) }\n",
        "\n",
        "print(result)\n",
        "\n",
        "print(\"The value is: \\(result.value)\")\n",
        "\n",
        "print(\"The gradients are: \\(result.gradient)\")"
      ],
      "execution_count": 0,
      "outputs": []
    },
    {
      "metadata": {
        "id": "0nhjT6BPMT5e",
        "colab_type": "text"
      },
      "cell_type": "markdown",
      "source": [
        "You can just use normal types like `Double` and `Float`."
      ]
    },
    {
      "metadata": {
        "id": "pyA2vCLipo8n",
        "colab_type": "text"
      },
      "cell_type": "markdown",
      "source": [
        "# Custom differential data types\n"
      ]
    },
    {
      "metadata": {
        "id": "Ug-TmV78LKcf",
        "colab_type": "code",
        "colab": {}
      },
      "cell_type": "code",
      "source": [
        "struct Point: Differentiable {\n",
        "    var x, y: Double\n",
        "\n",
        "    func dot(_ other: Point) -> Double {\n",
        "        return x * other.x + y * other.y\n",
        "    }\n",
        "\n",
        "    func myHelperFunction() -> Int {\n",
        "        return Int(x) + Int(y)\n",
        "    }\n",
        "}\n",
        "\n",
        "// Compute gradients\n",
        "print(gradient(at: Point(x: 1, y: 2)) { p in p.dot(p) })"
      ],
      "execution_count": 0,
      "outputs": []
    },
    {
      "metadata": {
        "id": "SA7ZYN99MRN2",
        "colab_type": "code",
        "colab": {}
      },
      "cell_type": "code",
      "source": [
        ""
      ],
      "execution_count": 0,
      "outputs": []
    },
    {
      "metadata": {
        "id": "3FE84MllUCXn",
        "colab_type": "text"
      },
      "cell_type": "markdown",
      "source": [
        "Recall, magnitude of point $P$ is defined as $\\left|P\\right| = \\sqrt{x^2 + y^2}$\n",
        "\n"
      ]
    },
    {
      "metadata": {
        "id": "yjph7jCse1mX",
        "colab_type": "code",
        "colab": {}
      },
      "cell_type": "code",
      "source": [
        "import Glibc"
      ],
      "execution_count": 0,
      "outputs": []
    },
    {
      "metadata": {
        "id": "x2b_iH1-tYr5",
        "colab_type": "code",
        "colab": {}
      },
      "cell_type": "code",
      "source": [
        "sqrt(4)"
      ],
      "execution_count": 0,
      "outputs": []
    },
    {
      "metadata": {
        "id": "jcMay95f4QU_",
        "colab_type": "code",
        "colab": {}
      },
      "cell_type": "code",
      "source": [
        "extension Point {\n",
        "    @differentiable\n",
        "    func magnitude() -> Double {\n",
        "        return sqrt(x * x + y * y)\n",
        "    }\n",
        "}"
      ],
      "execution_count": 0,
      "outputs": []
    },
    {
      "metadata": {
        "id": "xBBA4LWaUtiJ",
        "colab_type": "text"
      },
      "cell_type": "markdown",
      "source": [
        "Custom derivative for `sqrt`:\n",
        "\n",
        "Recall, $\\frac{d}{dx}\\sqrt{x} = \\frac{d}{dx}x^{\\frac{1}{2}} = \\frac{1}{2}x^{-\\frac{1}{2}} = \\frac{1}{2 \\sqrt{x}}$"
      ]
    },
    {
      "metadata": {
        "id": "irUGV_KOr0mk",
        "colab_type": "code",
        "colab": {}
      },
      "cell_type": "code",
      "source": [
        "func mySqrt(_ x: Double) -> Double {\n",
        "    return sqrt(x)\n",
        "}\n",
        "\n",
        "@differentiating(mySqrt)\n",
        "func mySqrtDerivative(_ x: Double) -> (value: Double,\n",
        "                                       pullback: (Double) -> Double) {\n",
        "    return (value: mySqrt(x),\n",
        "            pullback: { chain in (chain / (2 * mySqrt(x))) })\n",
        "}"
      ],
      "execution_count": 0,
      "outputs": []
    },
    {
      "metadata": {
        "id": "it_b_DfPMyQt",
        "colab_type": "code",
        "colab": {}
      },
      "cell_type": "code",
      "source": [
        ""
      ],
      "execution_count": 0,
      "outputs": []
    },
    {
      "metadata": {
        "id": "iNWWpeQSq7Dy",
        "colab_type": "code",
        "colab": {}
      },
      "cell_type": "code",
      "source": [
        "// A silly function taking two different differentiable types.\n",
        "@differentiable\n",
        "func silly(_ a: Point, _ b: Point, by scale: Double) -> Double {\n",
        "    return a.dot(b) * b.magnitude() + a.magnitude() * scale\n",
        "}"
      ],
      "execution_count": 0,
      "outputs": []
    },
    {
      "metadata": {
        "id": "C65BGXQJsFDE",
        "colab_type": "code",
        "colab": {}
      },
      "cell_type": "code",
      "source": [
        "let x = Point(x: 3.4, y: -1.7)"
      ],
      "execution_count": 0,
      "outputs": []
    },
    {
      "metadata": {
        "id": "v9vRJK-mhFFp",
        "colab_type": "code",
        "colab": {}
      },
      "cell_type": "code",
      "source": [
        "let grad = gradient(at: Point(x: 1.0, y: 0)) { p in\n",
        "    silly(p, x, by: 4.2)\n",
        "}\n",
        "print(grad)"
      ],
      "execution_count": 0,
      "outputs": []
    },
    {
      "metadata": {
        "id": "NpWofI9Wseji",
        "colab_type": "code",
        "colab": {}
      },
      "cell_type": "code",
      "source": [
        "let y = Point(x: 1.0, y: -1.0)\n",
        "let (dx, dy) = gradient(at: x, y) { x, y in silly(x, y, by: 1.3) }\n",
        "print(dx, dy, separator: \"\\n\")"
      ],
      "execution_count": 0,
      "outputs": []
    },
    {
      "metadata": {
        "id": "uKwJSp2is8Hd",
        "colab_type": "code",
        "colab": {}
      },
      "cell_type": "code",
      "source": [
        "let (val, grad) = valueWithGradient(at: x, y) { x, y in\n",
        "    silly(x, y, by: 3.14159)\n",
        "}\n",
        "print(\"The value of silly is: \\(val)\")\n",
        "print(\"The gradients with respect to x is: \\(grad.0).\")\n",
        "print(\"The gradients with respect to y is: \\(grad.1).\")"
      ],
      "execution_count": 0,
      "outputs": []
    },
    {
      "metadata": {
        "id": "sS0Qe2tEMPcr",
        "colab_type": "code",
        "colab": {}
      },
      "cell_type": "code",
      "source": [
        ""
      ],
      "execution_count": 0,
      "outputs": []
    },
    {
      "metadata": {
        "id": "VJ_D9xV7uFIB",
        "colab_type": "text"
      },
      "cell_type": "markdown",
      "source": [
        "# Printing out values in the backward pass\n"
      ]
    },
    {
      "metadata": {
        "id": "HyAS8aEjuI20",
        "colab_type": "code",
        "colab": {}
      },
      "cell_type": "code",
      "source": [
        "typealias Identity = @differentiable (Double) -> Double\n",
        "let gradientDebugger: Identity = differentiableFunction { input in\n",
        "    return (input,\n",
        "            { gradient in print(\"Gradient: \\(gradient)\"); return gradient })\n",
        "}"
      ],
      "execution_count": 0,
      "outputs": []
    },
    {
      "metadata": {
        "id": "bckFEi1Hue8_",
        "colab_type": "code",
        "colab": {}
      },
      "cell_type": "code",
      "source": [
        ""
      ],
      "execution_count": 0,
      "outputs": []
    }
  ]
}