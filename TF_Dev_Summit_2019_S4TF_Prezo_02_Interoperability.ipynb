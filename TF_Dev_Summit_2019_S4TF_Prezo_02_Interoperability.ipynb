{
  "nbformat": 4,
  "nbformat_minor": 0,
  "metadata": {
    "colab": {
      "name": "TF Dev Summit - 2019 - S4TF Prezo - 02 Interoperability",
      "version": "0.3.2",
      "provenance": [],
      "collapsed_sections": []
    },
    "kernelspec": {
      "name": "swift",
      "display_name": "Swift"
    }
  },
  "cells": [
    {
      "cell_type": "markdown",
      "metadata": {
        "id": "-EmSwFktm8eO",
        "colab_type": "text"
      },
      "source": [
        "# Seamless Python Interoperability\n"
      ]
    },
    {
      "cell_type": "code",
      "metadata": {
        "id": "kZRlD4utdPuX",
        "colab_type": "code",
        "colab": {}
      },
      "source": [
        "import TensorFlow\n",
        "import Python\n",
        "%include \"EnableIPythonDisplay.swift\""
      ],
      "execution_count": 0,
      "outputs": []
    },
    {
      "cell_type": "code",
      "metadata": {
        "id": "2_mVGpk3onxv",
        "colab_type": "code",
        "colab": {
          "base_uri": "https://localhost:8080/",
          "height": 286
        },
        "outputId": "d3ccca40-1f44-4759-8e97-c4b4c85a5069"
      },
      "source": [
        "let plt = Python.import(\"matplotlib.pyplot\")\n",
        "let np = Python.import(\"numpy\")\n",
        "\n",
        "IPythonDisplay.shell.enable_matplotlib(\"inline\")\n",
        "\n",
        "let x = np.linspace(0, 10, 100)\n",
        "\n",
        "plt.plot(x, np.sin(x))\n",
        "plt.plot(x, np.cos(x))\n",
        "\n",
        "plt.show()"
      ],
      "execution_count": 2,
      "outputs": [
        {
          "output_type": "display_data",
          "data": {
            "image/png": "[encoded data removed]",
            "text/plain": [
              "<Figure size 432x288 with 1 Axes>"
            ]
          },
          "metadata": {
            "tags": []
          }
        },
        {
          "output_type": "execute_result",
          "data": {
            "text/plain": [
              "None\n"
            ]
          },
          "metadata": {
            "tags": []
          },
          "execution_count": 2
        }
      ]
    },
    {
      "cell_type": "code",
      "metadata": {
        "id": "PydQfPjQRuUE",
        "colab_type": "code",
        "colab": {}
      },
      "source": [
        ""
      ],
      "execution_count": 0,
      "outputs": []
    },
    {
      "cell_type": "markdown",
      "metadata": {
        "id": "hPPeGNApt4FE",
        "colab_type": "text"
      },
      "source": [
        "# Demo: RL with OpenAI Gym\n"
      ]
    },
    {
      "cell_type": "code",
      "metadata": {
        "id": "hJ4J8BiCIpI7",
        "colab_type": "code",
        "colab": {}
      },
      "source": [
        "let gym = Python.import(\"gym\")\n",
        "\n",
        "/// Model parameters and hyper parameters.\n",
        "let hiddenSize = 128\n",
        "let batchSize = 16\n",
        "/// Controls the amount of good/long episodes to retain for training.\n",
        "let percentile = 70"
      ],
      "execution_count": 0,
      "outputs": []
    },
    {
      "cell_type": "code",
      "metadata": {
        "id": "ogCNnuIfuZhM",
        "colab_type": "code",
        "colab": {}
      },
      "source": [
        "/// A simple two layer dense net.\n",
        "struct Net: Layer {\n",
        "    var l1, l2: Dense<Float>\n",
        "\n",
        "    init(observationSize: Int, hiddenSize: Int, actionCount: Int) {\n",
        "        l1 = Dense<Float>(inputSize: observationSize, outputSize: hiddenSize, activation: relu)\n",
        "        l2 = Dense<Float>(inputSize: hiddenSize, outputSize: actionCount)\n",
        "    }\n",
        "\n",
        "    @differentiable\n",
        "    func callAsFunction(_ input: Tensor<Float>) -> Tensor<Float> {\n",
        "        return input.sequenced(through: l1, l2)\n",
        "    }\n",
        "}"
      ],
      "execution_count": 0,
      "outputs": []
    },
    {
      "cell_type": "code",
      "metadata": {
        "id": "w9x8OuioucPl",
        "colab_type": "code",
        "colab": {}
      },
      "source": [
        "/// An episode is a list of steps, where each step records the observation from\n",
        "/// env and the action taken. They will serve respectively as the input and\n",
        "/// target (label) of the neural net training.\n",
        "struct Episode {\n",
        "    struct Step {\n",
        "        let observation: Tensor<Float>\n",
        "        let action: Int32\n",
        "    }\n",
        "\n",
        "    let steps: [Step]\n",
        "    let reward: Float\n",
        "}\n",
        "\n",
        "/// Filters out bad/short episodes before we feed them as neural net training data.\n",
        "func filteringBatch(\n",
        "    episodes: [Episode],\n",
        "    actionCount: Int\n",
        ") -> (input: Tensor<Float>,\n",
        "      target: Tensor<Float>,\n",
        "      episodeCount: Int,\n",
        "      meanReward: Float) {\n",
        "    let rewards = episodes.map { $0.reward }\n",
        "    let rewardBound = Float(np.percentile(rewards, percentile))!\n",
        "    print(\"rewardBound = \\(rewardBound)\")\n",
        "\n",
        "    var input = Tensor<Float>(0.0)\n",
        "    var target = Tensor<Float>(0.0)\n",
        "    var totalReward: Float = 0.0\n",
        "\n",
        "    var retainedEpisodeCount = 0\n",
        "    for episode in episodes {\n",
        "        if episode.reward < rewardBound {\n",
        "            continue\n",
        "        }\n",
        "\n",
        "        let observationTensor = Tensor<Float>(episode.steps.map { $0.observation })\n",
        "        let actionTensor = Tensor<Int32>(episode.steps.map { $0.action })\n",
        "        let oneHotLabels = Tensor<Float>(oneHotAtIndices: actionTensor, depth: actionCount)\n",
        "\n",
        "        if retainedEpisodeCount == 0 {\n",
        "            input = observationTensor\n",
        "            target = oneHotLabels\n",
        "        } else {\n",
        "            input = input.concatenated(with: observationTensor)\n",
        "            target = target.concatenated(with: oneHotLabels)\n",
        "        }\n",
        "\n",
        "        totalReward += episode.reward\n",
        "        retainedEpisodeCount += 1\n",
        "    }\n",
        "  \n",
        "    return (input, target, retainedEpisodeCount, totalReward / Float(retainedEpisodeCount))\n",
        "}"
      ],
      "execution_count": 0,
      "outputs": []
    },
    {
      "cell_type": "code",
      "metadata": {
        "id": "Mg9ig-F7uecY",
        "colab_type": "code",
        "colab": {}
      },
      "source": [
        "func nextBatch(env: PythonObject,\n",
        "               net: Net,\n",
        "               batchSize: Int,\n",
        "               actionCount: Int\n",
        ") -> [Episode] {\n",
        "    var observationNumpy = env.reset()\n",
        "\n",
        "    var episodes = [Episode]()\n",
        "\n",
        "    withLearningPhase(.inference) {  \n",
        "        // Build up a batch of observations and actions.\n",
        "        for _ in 0..<batchSize {\n",
        "            var steps = [Episode.Step]()\n",
        "            var episodeReward: Float = 0.0\n",
        "\n",
        "            while true {\n",
        "                let observationPython = Tensor<Double>(numpy: observationNumpy)!\n",
        "                let actionProbabilities =\n",
        "                    softmax(net(Tensor(observationPython).reshaped(to: [1, 4])))\n",
        "                let actionProbabilitiesPython = actionProbabilities[0].makeNumpyArray()\n",
        "                let len = Python.len(actionProbabilitiesPython)\n",
        "                assert(actionCount == Int(len))\n",
        "      \n",
        "                let actionPython = np.random.choice(len, p: actionProbabilitiesPython)\n",
        "                let (nextObservation, reward, isDone, _) = env.step(actionPython).tuple4\n",
        "\n",
        "                steps.append(Episode.Step(observation: Tensor<Float>(observationPython),\n",
        "                                          action: Int32(actionPython)!))\n",
        "\n",
        "                episodeReward += Float(reward)!\n",
        "\n",
        "                if isDone == true {\n",
        "                    episodes.append(Episode(steps: steps, reward: episodeReward))\n",
        "                    observationNumpy = env.reset()\n",
        "                    break\n",
        "                } else {\n",
        "                    observationNumpy = nextObservation\n",
        "                }\n",
        "            }\n",
        "        }\n",
        "    }\n",
        "    return episodes\n",
        "\n",
        "}"
      ],
      "execution_count": 0,
      "outputs": []
    },
    {
      "cell_type": "code",
      "metadata": {
        "id": "OzAYq5lbuoJB",
        "colab_type": "code",
        "colab": {}
      },
      "source": [
        "let env = gym.make(\"CartPole-v0\")\n",
        "let observationSize = Int(env.observation_space.shape[0])!\n",
        "let actionCount = Int(env.action_space.n)!\n",
        "\n",
        "var meanRewards = [Float]()\n",
        "\n",
        "var net = Net(\n",
        "    observationSize: observationSize,\n",
        "    hiddenSize: hiddenSize,\n",
        "    actionCount: actionCount)\n",
        "let optimizer = Adam(for: net, learningRate: 0.01)\n",
        "Context.local.learningPhase = .training\n",
        "\n",
        "for batchIndex in 0... {\n",
        "    print(\"Processing mini batch \\(batchIndex)\")\n",
        "  \n",
        "    let episodes = nextBatch(\n",
        "        env: env, net: net, batchSize: batchSize, actionCount: actionCount)\n",
        "    let (input, target, episodeCount, meanReward) = \n",
        "        filteringBatch(episodes: episodes, actionCount: actionCount)\n",
        "\n",
        "    let gradients = gradient(at: net) { model -> Tensor<Float> in\n",
        "        let logits = model(input)\n",
        "        let loss = softmaxCrossEntropy(logits: logits, oneHotLabels: target)\n",
        "        print(\"loss is \\(loss)\")\n",
        "        return loss\n",
        "    }\n",
        "    optimizer.update(&net, along: gradients)\n",
        "\n",
        "    print(\"It has episode count \\(episodeCount) and mean reward \\(meanReward)\")\n",
        "    meanRewards.append(meanReward)\n",
        "\n",
        "    if meanReward > 199 {\n",
        "        print(\"Solved\")\n",
        "        break\n",
        "    }\n",
        "}"
      ],
      "execution_count": 0,
      "outputs": []
    },
    {
      "cell_type": "code",
      "metadata": {
        "id": "BBYAOCxHuqZb",
        "colab_type": "code",
        "outputId": "c85948aa-eb30-4425-d039-308586677737",
        "colab": {
          "base_uri": "https://localhost:8080/",
          "height": 286
        }
      },
      "source": [
        "plt.plot(meanRewards)\n",
        "plt.show()"
      ],
      "execution_count": 0,
      "outputs": [
        {
          "output_type": "display_data",
          "data": {
            "image/png": "[encoded data removed]",
            "text/plain": [
              "<Figure size 432x288 with 1 Axes>"
            ]
          },
          "metadata": {
            "tags": []
          }
        },
        {
          "output_type": "execute_result",
          "data": {
            "text/plain": [
              "None\n"
            ]
          },
          "metadata": {
            "tags": []
          },
          "execution_count": 30
        }
      ]
    }
  ]
}